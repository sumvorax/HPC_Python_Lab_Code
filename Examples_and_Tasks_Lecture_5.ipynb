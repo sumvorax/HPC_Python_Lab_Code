{
 "cells": [
  {
   "cell_type": "markdown",
   "metadata": {
    "colab_type": "text",
    "id": "XNAjOxCLQZw0"
   },
   "source": [
    "# <strong> Hello World! </strong> \n"
   ]
  },
  {
   "cell_type": "code",
   "execution_count": null,
   "metadata": {},
   "outputs": [],
   "source": [
    "\n",
    "from mpi4py import MPI\n",
    "import numpy as np\n",
    "\n",
    "comm = MPI.COMM_WORLD\n",
    "rank = comm.Get_rank()\n",
    "\n",
    "# Python objects sum-reduce\n",
    "result = comm.reduce(rank, op = MPI.SUM, root = 0)\n",
    "\n",
    "\n",
    "# Numpy objects sum-reduce\n",
    "sendbuf = np.empty(2, dtype = 'i')\n",
    "sendbuf[0] = 1\n",
    "sendbuf[1] = rank\n",
    "\n",
    "if rank == 0:\n",
    "    recvbuf = np.empty(2, dtype = 'i')\n",
    "else:\n",
    "    recvbuf = None\n",
    "\n",
    "comm.Reduce(sendbuf, recvbuf, op = MPI.SUM, root = 0)\n"
   ]
  },
  {
   "cell_type": "code",
   "execution_count": null,
   "metadata": {
    "colab": {
     "base_uri": "https://localhost:8080/",
     "height": 125
    },
    "colab_type": "code",
    "id": "vOE5CX6DRLGM",
    "outputId": "216054f2-2bb8-4629-b543-a5a21ffbf8a6"
   },
   "outputs": [],
   "source": [
    "# Open and display the script:\n",
    "f = open(\"Hello_world.py\", \"r\")\n",
    "print(f.read())\n",
    "f.close()"
   ]
  },
  {
   "cell_type": "code",
   "execution_count": null,
   "metadata": {
    "colab": {
     "base_uri": "https://localhost:8080/",
     "height": 197
    },
    "colab_type": "code",
    "id": "IHPYDKGRRXR2",
    "outputId": "c81930b7-1ed0-488c-dbda-414da7c5618e",
    "scrolled": true
   },
   "outputs": [],
   "source": [
    "# Parallel run the script in terminal\n",
    "\n",
    "# ! -- running the command in terminal\n",
    "# mpirun -- command for running scripts with MPI\n",
    "# -n <Number> -- specify the number of processes\n",
    "\n",
    "!mpirun -n 10 python Hello_world.py"
   ]
  },
  {
   "cell_type": "code",
   "execution_count": null,
   "metadata": {
    "colab": {
     "base_uri": "https://localhost:8080/",
     "height": 197
    },
    "colab_type": "code",
    "id": "IHPYDKGRRXR2",
    "outputId": "c81930b7-1ed0-488c-dbda-414da7c5618e",
    "scrolled": true
   },
   "outputs": [],
   "source": [
    "# Use this when in Google colab\n",
    "!mpiexec --allow-run-as-root -n 10 python -m mpi4py Hello_world.py"
   ]
  },
  {
   "cell_type": "markdown",
   "metadata": {
    "colab_type": "text",
    "id": "-kqEBA9VR52P"
   },
   "source": [
    "# <strong> Blocking point-to-point communication\n",
    "</strong> \n"
   ]
  },
  {
   "cell_type": "code",
   "execution_count": null,
   "metadata": {
    "colab": {},
    "colab_type": "code",
    "id": "0-jkgZdgSfmR"
   },
   "outputs": [],
   "source": [
    "f = open(\"Simple_blocking_p2p.py\", \"r\")\n",
    "print(f.read())\n",
    "f.close()"
   ]
  },
  {
   "cell_type": "code",
   "execution_count": null,
   "metadata": {
    "colab": {
     "base_uri": "https://localhost:8080/",
     "height": 71
    },
    "colab_type": "code",
    "id": "OSBIFJtaSpQi",
    "outputId": "509d96d8-3e94-4a36-f7b7-ef71050efec4"
   },
   "outputs": [],
   "source": [
    "!mpirun -n 3 python Simple_blocking_p2p.py"
   ]
  },
  {
   "cell_type": "markdown",
   "metadata": {
    "colab_type": "text",
    "id": "-kqEBA9VR52P"
   },
   "source": [
    "# <strong> NumPy blocking point-to-point communication </strong> \n"
   ]
  },
  {
   "cell_type": "code",
   "execution_count": null,
   "metadata": {
    "colab": {},
    "colab_type": "code",
    "id": "0-jkgZdgSfmR",
    "scrolled": true
   },
   "outputs": [],
   "source": [
    "f = open(\"Numpy_blocking_p2p.py\", \"r\")\n",
    "print(f.read())\n",
    "f.close()"
   ]
  },
  {
   "cell_type": "code",
   "execution_count": null,
   "metadata": {
    "colab": {
     "base_uri": "https://localhost:8080/",
     "height": 71
    },
    "colab_type": "code",
    "id": "OSBIFJtaSpQi",
    "outputId": "509d96d8-3e94-4a36-f7b7-ef71050efec4"
   },
   "outputs": [],
   "source": [
    "!mpirun -n 3 python Numpy_blocking_p2p.py"
   ]
  },
  {
   "cell_type": "markdown",
   "metadata": {
    "colab_type": "text",
    "id": "-kqEBA9VR52P"
   },
   "source": [
    "# <strong> Non-blocking point-to-point communication\n",
    "</strong> \n"
   ]
  },
  {
   "cell_type": "code",
   "execution_count": null,
   "metadata": {
    "colab": {},
    "colab_type": "code",
    "id": "0-jkgZdgSfmR"
   },
   "outputs": [],
   "source": [
    "f = open(\"Nonblocking_p2p.py\", \"r\")\n",
    "print(f.read())\n",
    "f.close()"
   ]
  },
  {
   "cell_type": "code",
   "execution_count": null,
   "metadata": {
    "colab": {
     "base_uri": "https://localhost:8080/",
     "height": 71
    },
    "colab_type": "code",
    "id": "OSBIFJtaSpQi",
    "outputId": "509d96d8-3e94-4a36-f7b7-ef71050efec4"
   },
   "outputs": [],
   "source": [
    "!mpirun -n 3 python Nonblocking_p2p.py"
   ]
  },
  {
   "cell_type": "markdown",
   "metadata": {
    "colab_type": "text",
    "id": "kdppFy9M7G3W"
   },
   "source": [
    "# <strong> Collective communication: Sum-reduce </strong>"
   ]
  },
  {
   "cell_type": "code",
   "execution_count": null,
   "metadata": {
    "colab": {},
    "colab_type": "code",
    "id": "D5wc-zkSD2zn"
   },
   "outputs": [],
   "source": [
    "f = open(\"Sum_reduce.py\", \"r\")\n",
    "print(f.read())\n",
    "f.close()"
   ]
  },
  {
   "cell_type": "code",
   "execution_count": null,
   "metadata": {
    "colab": {
     "base_uri": "https://localhost:8080/",
     "height": 377
    },
    "colab_type": "code",
    "id": "RjRe3J2qEsNT",
    "outputId": "379fa1e6-2ef0-4bf6-f13a-efa0bf27a42d",
    "scrolled": true
   },
   "outputs": [],
   "source": [
    "!mpirun -n 5 python Sum_reduce.py"
   ]
  },
  {
   "cell_type": "markdown",
   "metadata": {
    "colab_type": "text",
    "id": "kdppFy9M7G3W"
   },
   "source": [
    "# <strong> Collective communication: Broadcast </strong>"
   ]
  },
  {
   "cell_type": "code",
   "execution_count": null,
   "metadata": {
    "colab": {},
    "colab_type": "code",
    "id": "D5wc-zkSD2zn"
   },
   "outputs": [],
   "source": [
    "f = open(\"Broadcast.py\", \"r\")\n",
    "print(f.read())\n",
    "f.close()"
   ]
  },
  {
   "cell_type": "code",
   "execution_count": null,
   "metadata": {
    "colab": {
     "base_uri": "https://localhost:8080/",
     "height": 377
    },
    "colab_type": "code",
    "id": "RjRe3J2qEsNT",
    "outputId": "379fa1e6-2ef0-4bf6-f13a-efa0bf27a42d",
    "scrolled": true
   },
   "outputs": [],
   "source": [
    "!mpirun -n 5 python Broadcast.py"
   ]
  },
  {
   "cell_type": "markdown",
   "metadata": {
    "colab_type": "text",
    "id": "kdppFy9M7G3W"
   },
   "source": [
    "# <strong> Collective communication: Scatter </strong>"
   ]
  },
  {
   "cell_type": "code",
   "execution_count": null,
   "metadata": {
    "colab": {},
    "colab_type": "code",
    "id": "D5wc-zkSD2zn"
   },
   "outputs": [],
   "source": [
    "f = open(\"Scatter.py\", \"r\")\n",
    "print(f.read())\n",
    "f.close()"
   ]
  },
  {
   "cell_type": "code",
   "execution_count": null,
   "metadata": {
    "colab": {
     "base_uri": "https://localhost:8080/",
     "height": 377
    },
    "colab_type": "code",
    "id": "RjRe3J2qEsNT",
    "outputId": "379fa1e6-2ef0-4bf6-f13a-efa0bf27a42d",
    "scrolled": true
   },
   "outputs": [],
   "source": [
    "!mpirun -n 5 python Scatter.py"
   ]
  },
  {
   "cell_type": "markdown",
   "metadata": {
    "colab_type": "text",
    "id": "kdppFy9M7G3W"
   },
   "source": [
    "# <strong> Collective communication: Gather </strong>"
   ]
  },
  {
   "cell_type": "code",
   "execution_count": null,
   "metadata": {
    "colab": {},
    "colab_type": "code",
    "id": "D5wc-zkSD2zn"
   },
   "outputs": [],
   "source": [
    "f = open(\"Gather.py\", \"r\")\n",
    "print(f.read())\n",
    "f.close()"
   ]
  },
  {
   "cell_type": "code",
   "execution_count": null,
   "metadata": {
    "colab": {
     "base_uri": "https://localhost:8080/",
     "height": 377
    },
    "colab_type": "code",
    "id": "RjRe3J2qEsNT",
    "outputId": "379fa1e6-2ef0-4bf6-f13a-efa0bf27a42d",
    "scrolled": true
   },
   "outputs": [],
   "source": [
    "!mpirun -n 5 python Gather.py"
   ]
  },
  {
   "cell_type": "markdown",
   "metadata": {
    "colab_type": "text",
    "id": "gHbG_8qO55xJ"
   },
   "source": [
    "# Task 7 . <strong> Description </strong> of the task"
   ]
  },
  {
   "cell_type": "code",
   "execution_count": null,
   "metadata": {
    "colab": {
     "base_uri": "https://localhost:8080/",
     "height": 35
    },
    "colab_type": "code",
    "id": "JJ-0Nnh65KFb",
    "outputId": "74a386d9-4cbd-4139-ba57-ab422e3bf71f"
   },
   "outputs": [],
   "source": [
    "import numpy as np\n",
    "\n",
    "a = np.arange(10)\n",
    "\n",
    "print(a)"
   ]
  },
  {
   "cell_type": "markdown",
   "metadata": {
    "colab_type": "text",
    "id": "oHs53iAm6DkN"
   },
   "source": [
    "# Task 8. Description \n",
    "\n",
    "* $\\int_a^b \\frac{1}{\\sqrt{1 + x^2}}$\n",
    "* "
   ]
  }
 ],
 "metadata": {
  "colab": {
   "name": "Task 7 & Task 8.ipynb",
   "provenance": []
  },
  "kernelspec": {
   "display_name": "Python 3",
   "language": "python",
   "name": "python3"
  },
  "language_info": {
   "codemirror_mode": {
    "name": "ipython",
    "version": 3
   },
   "file_extension": ".py",
   "mimetype": "text/x-python",
   "name": "python",
   "nbconvert_exporter": "python",
   "pygments_lexer": "ipython3",
   "version": "3.6.8"
  }
 },
 "nbformat": 4,
 "nbformat_minor": 1
}
